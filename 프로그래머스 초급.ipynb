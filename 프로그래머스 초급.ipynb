{
 "cells": [
  {
   "cell_type": "code",
   "execution_count": 93,
   "metadata": {},
   "outputs": [],
   "source": [
    "a = 123"
   ]
  },
  {
   "cell_type": "code",
   "execution_count": 94,
   "metadata": {},
   "outputs": [],
   "source": [
    "a = a - (a % 10)\n",
    "a = a / 10"
   ]
  },
  {
   "cell_type": "code",
   "execution_count": 96,
   "metadata": {},
   "outputs": [
    {
     "data": {
      "text/plain": [
       "12.0"
      ]
     },
     "execution_count": 96,
     "metadata": {},
     "output_type": "execute_result"
    }
   ],
   "source": [
    "a"
   ]
  },
  {
   "cell_type": "code",
   "execution_count": 97,
   "metadata": {},
   "outputs": [],
   "source": [
    "def solution(n):\n",
    "    answer = 0\n",
    "    for i in range(9):\n",
    "        answer = answer + n % 10\n",
    "        n = n - (n % 10)\n",
    "        n = n / 10\n",
    "    return answer"
   ]
  },
  {
   "cell_type": "code",
   "execution_count": null,
   "metadata": {},
   "outputs": [],
   "source": []
  },
  {
   "cell_type": "code",
   "execution_count": 105,
   "metadata": {},
   "outputs": [],
   "source": [
    "def solution(seoul):\n",
    "    answer = ''\n",
    "    index = 0\n",
    "    for i in range(len(seoul)):\n",
    "        if seoul[i] == \"Kim\":\n",
    "            index = i\n",
    "    answer = \"김서방은 %d에 있다\" % index\n",
    "        \n",
    "    return answer"
   ]
  },
  {
   "cell_type": "code",
   "execution_count": 106,
   "metadata": {},
   "outputs": [],
   "source": [
    "seoul = [\"afd\",'fasd',\"Kim\"]"
   ]
  },
  {
   "cell_type": "code",
   "execution_count": 108,
   "metadata": {},
   "outputs": [
    {
     "data": {
      "text/plain": [
       "'김서방은 2에 있다'"
      ]
     },
     "execution_count": 108,
     "metadata": {},
     "output_type": "execute_result"
    }
   ],
   "source": [
    "solution(seoul)"
   ]
  },
  {
   "cell_type": "code",
   "execution_count": 198,
   "metadata": {},
   "outputs": [
    {
     "name": "stdout",
     "output_type": "stream",
     "text": [
      "3\n"
     ]
    }
   ],
   "source": [
    "skill = \"CBD\"\n",
    "\n",
    "skill_trees = [\"BACDE\", \"CBADF\", \"AECB\", \"BDA\",\"BDC\"]\n",
    "\n",
    "# 정렬이 안되있으면 리턴 1\n",
    "def sort(ab):\n",
    "    for i in range(len(ab)-1):\n",
    "        if ab[i] > ab[i+1]:\n",
    "            return 1\n",
    "        \n",
    "seq = []\n",
    "\n",
    "count = 0\n",
    "for i in range(len(skill_trees)):\n",
    "    for k in skill:\n",
    "        for j in range(len(skill_trees[i])):\n",
    "            if k == skill_trees[i][j]:\n",
    "                seq.append(j)\n",
    "    if sort(seq)!=1:\n",
    "        count+=1\n",
    "    seq=[]\n",
    "print(count)\n",
    "\n",
    "    "
   ]
  },
  {
   "cell_type": "code",
   "execution_count": 199,
   "metadata": {},
   "outputs": [
    {
     "name": "stdout",
     "output_type": "stream",
     "text": [
      "5\n"
     ]
    }
   ],
   "source": [
    "seq = []\n",
    "answer = 0\n",
    "flag = 0\n",
    "for i in range(len(skill_trees)):\n",
    "    for k in skill:\n",
    "        for j in range(len(skill_trees[i])):\n",
    "            if k == skill_trees[i][j]:\n",
    "                seq.append(j)\n",
    "\n",
    "    for s in range(len(seq)-1):\n",
    "        if seq[s] > seq[s+1]:\n",
    "            flag = 0\n",
    "        else:\n",
    "            flag = 1\n",
    "    if flag == 1:\n",
    "        answer+=1\n",
    "    flag = 0\n",
    "    seq=[]\n",
    "print(answer)"
   ]
  }
 ],
 "metadata": {
  "kernelspec": {
   "display_name": "Python 3",
   "language": "python",
   "name": "python3"
  },
  "language_info": {
   "codemirror_mode": {
    "name": "ipython",
    "version": 3
   },
   "file_extension": ".py",
   "mimetype": "text/x-python",
   "name": "python",
   "nbconvert_exporter": "python",
   "pygments_lexer": "ipython3",
   "version": "3.6.2"
  }
 },
 "nbformat": 4,
 "nbformat_minor": 4
}
